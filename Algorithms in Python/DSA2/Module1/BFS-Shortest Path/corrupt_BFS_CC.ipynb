{
 "cells": [
  {
   "cell_type": "markdown",
   "id": "78151b47",
   "metadata": {},
   "source": [
    "# Connected Components in Undirected Graph \n",
    "\n",
    "## Method\n",
    "    The Breadth-first Search algorithm is to be used to find the CC in an undirected graph G\n",
    "\n",
    "## Input and Output\n",
    "Input: \n",
    "    An undirected graph G \n",
    "Output: \n",
    "    A dictionary consisting of group indices (as keys) and a list of nodes belonging to that group (as values)\n",
    "    * Each group represents a CC\n",
    "\n",
    "## Formatted Printing\n",
    "    The outputted dictionary will be printed in the following format:\n",
    "    '''Group {group_idx} contains: [a list of nodes in that CC]'''"
   ]
  },
  {
   "cell_type": "code",
   "execution_count": null,
   "id": "1fe31ff9",
   "metadata": {},
   "outputs": [],
   "source": [
    "# Import the Quene class from BFS-Shortest_Path.py\n",
    "from BFS_Shortest_Path import Quene\n",
    "# Test Case\n",
    "graph_test = {\n",
    "    # CC1\n",
    "    'A': ['B', 'C', 'D'],\n",
    "    'B': ['C', 'A'],\n",
    "    'C': ['A', 'B'],\n",
    "    'D': ['A'],\n",
    "    # CC2\n",
    "    'E': ['F'],\n",
    "    'F': ['E'],\n",
    "    # CC3\n",
    "    'H': [\"I\", \"J\"],\n",
    "    'J': [\"H\", \"I\"],\n",
    "    'I': [\"H\", \"J\"]\n",
    "}"
   ]
  },
  {
   "cell_type": "code",
   "execution_count": null,
   "id": "11d24e78",
   "metadata": {},
   "outputs": [],
   "source": [
    "def find_connected_components(graph):\n",
    "    pass"
   ]
  },
  {
   "cell_type": "code",
   "execution_count": null,
   "id": "fcdd92b6",
   "metadata": {},
   "outputs": [],
   "source": [
    "def bfs_cc(graph):\n",
    "    pass"
   ]
  },
  {
   "cell_type": "code",
   "execution_count": null,
   "id": "3a1e41cd",
   "metadata": {},
   "outputs": [],
   "source": [
    "# class Stack():\n",
    "#     def __init__(self):\n",
    "#         self.stack = []\n",
    "    \n",
    "#     def get_length(self):\n",
    "#         return len(self.stack)\n",
    "#     def put\n",
    "    \n",
    "#     pass"
   ]
  }
 ],
 "metadata": {
  "language_info": {
   "name": "python"
  }
 },
 "nbformat": 4,
 "nbformat_minor": 5
}
